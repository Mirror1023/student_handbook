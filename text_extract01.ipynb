{
 "cells": [
  {
   "cell_type": "markdown",
   "id": "8303dca7-dff4-4c62-9da7-faf96ac9262c",
   "metadata": {},
   "source": [
    "# Text Extract from pdf"
   ]
  },
  {
   "cell_type": "code",
   "execution_count": 1,
   "id": "d60962b7-1ce3-4a4a-bc7a-1a584644649b",
   "metadata": {},
   "outputs": [],
   "source": [
    "from src.data_prep import load_pdf_data_from_disk\n",
    "text = load_pdf_data_from_disk(file_name='Inspira Psych Handbook 2023 -2024 edited.pdf')"
   ]
  },
  {
   "cell_type": "code",
   "execution_count": 2,
   "id": "369cac13-055a-4ff4-89bf-267fd3d38f48",
   "metadata": {},
   "outputs": [
    {
     "data": {
      "text/plain": [
       "' ……………………. …………………………………………………………………………….. 59 \\n \\n \\n \\n \\n \\n \\n \\n \\n \\n \\n \\n Inspira Health Psychiatry Residency Handbook  \\n \\n3 \\n  \\nWelcome ! \\nCongratulations on starting your Psychiatry Residency with us at Inspira Health! All your hard work \\nleading to this point has paid off and the next phase of your journey is now just beginning. These next \\nfew years will be your “formative years” in your pro fessional career,  and we are ecstatic to be a part of \\nit. This handbook will serve as a guide on many different topics including: overarching goals, rotation \\nspecifics, program logistics, professionalism, amongst others.  \\nPlease take your time to review ou r policies and guidelines. You will be best prepared to start residency \\nwhen you understand what the expectations are as a trainee and are for faculty. During the course of \\nthe year, supplemental information may also be given to you. Please be aware that a ny policy in this \\nmanual is subject to change.  \\nFor further clarification of clinic'"
      ]
     },
     "execution_count": 2,
     "metadata": {},
     "output_type": "execute_result"
    }
   ],
   "source": [
    "text[1000:2000]"
   ]
  },
  {
   "cell_type": "code",
   "execution_count": 3,
   "id": "b123ca9a-4221-4439-a1a5-d6dc8af7df47",
   "metadata": {},
   "outputs": [],
   "source": [
    "from src.data_prep import clean_and_format_text\n",
    "clean_text = clean_and_format_text(text)"
   ]
  },
  {
   "cell_type": "code",
   "execution_count": 4,
   "id": "a76c073c-9dfd-45f8-9bfb-1a56ff74479a",
   "metadata": {},
   "outputs": [
    {
     "data": {
      "text/plain": [
       "'ychiatry Residency Handbook 3 Welcome! Congratulations on starting your Psychiatry Residency with us at Inspira Health! All your hard work leading to this point has paid off and the next phase of your journey is now just beginning. These next few years will be your “formative years” in your pro fessional career, and we are ecstatic to beapart of it. This handbook will serve asaguide on many different topics including: overarching goals, rotation specifics, program logistics, professionalism, amongst others. Please take your time to review ourpolicies and guidelines. You will be best prepared to start residency when you understand what the expectations are as a trainee and are for faculty. During the course of the year, supplemental information may also be given to you. Please be aware thatany policy in this manual is subject to change. For further clarification of clinical information and/or service requirements, please speak with your Program Director, the director of the individual service, or the chief/director of the clinical service site in which you are involved. Once again welcome to our family and we can’t wait to get started. Inspira Health Psychiatry Residency Handbook 4 OVERVIEW —PSYCHIATRY RESIDENCY PROGRAM Our psychiatry residency program is accredited by the Accreditation Council for Graduate Medical Education (ACGME). The residency program in General Psychiatry offers a balanced training approach that provides ample exposure to psychotherapy and psychopharmacology in addition to training in all modalities that will be needed in the practice of Psychiatry. The program’s philosophical bases are a commitment to the holistic concepts of osteopathic medicine and the integration of the biopsychosocial model in understanding both pathology and treatment approaches. During the first two years of training, the resident experiences, clinically and academically, the biological, psychological, and social areas of mental health. Once this foundation is built, othe'"
      ]
     },
     "execution_count": 4,
     "metadata": {},
     "output_type": "execute_result"
    }
   ],
   "source": [
    "clean_text[1000:3000]"
   ]
  },
  {
   "cell_type": "code",
   "execution_count": 5,
   "id": "e754d00d-df44-4d54-9db2-cfe4a6878656",
   "metadata": {},
   "outputs": [],
   "source": [
    "# Save the cleaned text to a text file\n",
    "with open(\"data/clean_pdf_text\", 'w') as file:\n",
    "    file.write(clean_text)"
   ]
  },
  {
   "cell_type": "code",
   "execution_count": null,
   "id": "aad4a5fb-f723-4485-96fb-1b7c780f12d6",
   "metadata": {},
   "outputs": [],
   "source": []
  },
  {
   "cell_type": "code",
   "execution_count": null,
   "id": "43b7cecb-10f8-4253-9749-0444bc3b6e80",
   "metadata": {},
   "outputs": [
    {
     "name": "stdout",
     "output_type": "stream",
     "text": [
      " * Serving Flask app '__main__'\n",
      " * Debug mode: off\n"
     ]
    },
    {
     "name": "stderr",
     "output_type": "stream",
     "text": [
      "\u001b[31m\u001b[1mWARNING: This is a development server. Do not use it in a production deployment. Use a production WSGI server instead.\u001b[0m\n",
      " * Running on http://127.0.0.1:5000\n",
      "\u001b[33mPress CTRL+C to quit\u001b[0m\n",
      "127.0.0.1 - - [29/Jul/2023 17:28:32] \"GET / HTTP/1.1\" 200 -\n",
      "127.0.0.1 - - [29/Jul/2023 17:28:42] \"POST /ask_openai HTTP/1.1\" 200 -\n"
     ]
    },
    {
     "name": "stdout",
     "output_type": "stream",
     "text": [
      "{'error': {'message': \"This model's maximum context length is 2049 tokens, however you requested 22359 tokens (22109 in your prompt; 250 for the completion). Please reduce your prompt; or completion length.\", 'type': 'invalid_request_error', 'param': None, 'code': None}}\n"
     ]
    }
   ],
   "source": [
    "from flask import Flask, render_template_string, request, jsonify\n",
    "import requests\n",
    "\n",
    "from src.data_prep import load_pdf_data_from_disk\n",
    "text = load_pdf_data_from_disk(file_name='Inspira Psych Handbook 2023 -2024 edited.pdf')\n",
    "\n",
    "from src.data_prep import clean_and_format_text\n",
    "handbook_text = clean_and_format_text(text)\n",
    "\n",
    "app = Flask(__name__)\n",
    "\n",
    "# Dummy API key for demonstration. Replace with your actual API key when running locally.\n",
    "API_KEY = \"HIDDEN\"\n",
    "OPENAI_ENDPOINT = \"https://api.openai.com/v1/engines/davinci/completions\"\n",
    "headers = {\n",
    "    \"Authorization\": f\"Bearer {API_KEY}\",\n",
    "    \"Content-Type\": \"application/json\",\n",
    "    \"User-Agent\": \"Inspira-Psych-Handbook-App\"\n",
    "}\n",
    "\n",
    "template_string = \"\"\"\n",
    "<!doctype html>\n",
    "<html>\n",
    "    <head>\n",
    "        <title>Student Handbook Q&A</title>\n",
    "    </head>\n",
    "    <body>\n",
    "        <h2>Ask a Question About the Student Handbook</h2>\n",
    "        <form action=\"/ask_openai\" method=\"post\" id=\"questionForm\">\n",
    "            <textarea name=\"question\" rows=\"4\" cols=\"50\" placeholder=\"Type your question here...\"></textarea><br><br>\n",
    "            <input type=\"submit\" value=\"Ask\">\n",
    "        </form>\n",
    "        <h3>Answer:</h3>\n",
    "        <div id=\"answer\"></div>\n",
    "        <script>\n",
    "            const form = document.getElementById('questionForm');\n",
    "            form.addEventListener('submit', async (event) => {\n",
    "                event.preventDefault();\n",
    "                const formData = new FormData(form);\n",
    "                const response = await fetch('/ask_openai', {\n",
    "                    method: 'POST',\n",
    "                    body: formData\n",
    "                });\n",
    "                const data = await response.json();\n",
    "                document.getElementById('answer').textContent = data.answer;\n",
    "            });\n",
    "        </script>\n",
    "    </body>\n",
    "</html>\n",
    "\"\"\"\n",
    "\n",
    "@app.route('/')\n",
    "def index():\n",
    "    return render_template_string(template_string)\n",
    "\n",
    "@app.route('/ask_openai', methods=['POST'])\n",
    "def ask_openai():\n",
    "    question = request.form.get('question')\n",
    "    prompt = f\"The following is a student handbook: {handbook_text}\\n\\nQ: {question}\\nA:\"\n",
    "    data = {\n",
    "        \"prompt\": prompt,\n",
    "        \"max_tokens\": 250\n",
    "    }\n",
    "    response = requests.post(OPENAI_ENDPOINT, headers=headers, json=data)\n",
    "    response_data = response.json()\n",
    "    print(response_data)  # This will log the entire response to your console.\n",
    "    answer = response_data['choices'][0]['text'].strip() if 'choices' in response_data and response_data['choices'] else \"Sorry, I couldn't provide an answer at the moment.\"\n",
    "    return jsonify({\"answer\": answer})\n",
    "\n",
    "if __name__ == \"__main__\":\n",
    "    app.run()"
   ]
  },
  {
   "cell_type": "code",
   "execution_count": null,
   "id": "8d23f9a5-f34a-4b72-9171-80e99d2c800a",
   "metadata": {},
   "outputs": [],
   "source": []
  },
  {
   "cell_type": "code",
   "execution_count": null,
   "id": "68a33ae8-8a54-4f0f-9abe-eea68937149b",
   "metadata": {},
   "outputs": [],
   "source": []
  },
  {
   "cell_type": "raw",
   "id": "ec5d6825-8db3-4aac-8e8e-dc0313bbe89f",
   "metadata": {},
   "source": [
    "# TO DO\n",
    "\n",
    "- Segment the pdf\n",
    "- use only specfic segments when answering questions"
   ]
  },
  {
   "cell_type": "code",
   "execution_count": null,
   "id": "afc31e0f-1c3e-4438-be97-789b2687fa4e",
   "metadata": {},
   "outputs": [],
   "source": []
  }
 ],
 "metadata": {
  "kernelspec": {
   "display_name": "Python 3 (ipykernel)",
   "language": "python",
   "name": "python3"
  },
  "language_info": {
   "codemirror_mode": {
    "name": "ipython",
    "version": 3
   },
   "file_extension": ".py",
   "mimetype": "text/x-python",
   "name": "python",
   "nbconvert_exporter": "python",
   "pygments_lexer": "ipython3",
   "version": "3.10.9"
  }
 },
 "nbformat": 4,
 "nbformat_minor": 5
}
